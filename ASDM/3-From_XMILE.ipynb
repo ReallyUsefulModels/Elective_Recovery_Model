{
 "cells": [
  {
   "cell_type": "code",
   "execution_count": 1,
   "metadata": {},
   "outputs": [],
   "source": [
    "from ASDM.Engine import Structure\n",
    "import pandas as pd\n",
    "pd.options.display.max_columns = 100"
   ]
  },
  {
   "cell_type": "code",
   "execution_count": 2,
   "metadata": {},
   "outputs": [],
   "source": [
    "# model = Structure(from_xmile='BuiltInTestModels/Goal_gap.stmx')\n",
    "# model = Structure(from_xmile='BuiltInTestModels/Goal_gap_array.stmx')\n",
    "# model = Structure(from_xmile='BuiltInTestModels/Built_in_vars.stmx')\n",
    "# model = Structure(from_xmile='BuiltInTestModels/IF_THEN_ELSE.stmx')\n",
    "# model = Structure(from_xmile='BuiltInTestModels/Graph_function.stmx ')\n",
    "# model = Structure(from_xmile='BuiltInTestModels/Array_cross_reference.stmx ')\n",
    "# model = Structure(from_xmile='BuiltInTestModels/Delays.stmx ')\n",
    "# model = Structure(from_xmile='BuiltInTestModels/Logic.stmx ')\n",
    "# model = Structure(from_xmile='BuiltInTestModels/Conveyor.stmx ')\n",
    "model = Structure(from_xmile='BuiltInTestModels/Conveyor_leakage.stmx ')"
   ]
  },
  {
   "cell_type": "code",
   "execution_count": 3,
   "metadata": {},
   "outputs": [
    {
     "name": "stdout",
     "output_type": "stream",
     "text": [
      "Initializing stock: Leaked_Conveyor\n",
      "Initializing stock: AllLeaked\n",
      "Initializing stock: AllOutFlowed\n",
      "All stocks initialised.\n"
     ]
    },
    {
     "data": {
      "application/vnd.jupyter.widget-view+json": {
       "model_id": "ee3145349be2485fa9504a54fca4c5c0",
       "version_major": 2,
       "version_minor": 0
      },
      "text/plain": [
       "  0%|          | 0/16 [00:00<?, ?it/s]"
      ]
     },
     "metadata": {},
     "output_type": "display_data"
    }
   ],
   "source": [
    "model.clear_last_run()\n",
    "model.simulate()\n",
    "df_outcome = model.export_simulation_result()"
   ]
  },
  {
   "cell_type": "code",
   "execution_count": 4,
   "metadata": {},
   "outputs": [
    {
     "data": {
      "text/plain": [
       "<AxesSubplot:>"
      ]
     },
     "execution_count": 4,
     "metadata": {},
     "output_type": "execute_result"
    },
    {
     "data": {
      "image/png": "[encoded data removed]",
      "text/plain": [
       "<Figure size 432x288 with 1 Axes>"
      ]
     },
     "metadata": {
      "needs_background": "light"
     },
     "output_type": "display_data"
    }
   ],
   "source": [
    "df_outcome.plot()"
   ]
  },
  {
   "cell_type": "code",
   "execution_count": 5,
   "metadata": {},
   "outputs": [],
   "source": [
    "# new_columns = [n.replace('_', ' ') for n in list(df_outcome.columns)]\n",
    "# column_name_map = dict(zip(df_outcome.columns, new_columns))\n",
    "\n",
    "# df_outcome.rename(columns=column_name_map, inplace=True)\n",
    "# df_outcome.drop(['TIME'], axis=1, inplace=True)"
   ]
  },
  {
   "cell_type": "code",
   "execution_count": 6,
   "metadata": {},
   "outputs": [],
   "source": [
    "# df_outcome[sorted(df_outcome.columns)]"
   ]
  },
  {
   "cell_type": "code",
   "execution_count": 7,
   "metadata": {},
   "outputs": [
    {
     "data": {
      "text/html": [
       "<div>\n",
       "<style scoped>\n",
       "    .dataframe tbody tr th:only-of-type {\n",
       "        vertical-align: middle;\n",
       "    }\n",
       "\n",
       "    .dataframe tbody tr th {\n",
       "        vertical-align: top;\n",
       "    }\n",
       "\n",
       "    .dataframe thead th {\n",
       "        text-align: right;\n",
       "    }\n",
       "</style>\n",
       "<table border=\"1\" class=\"dataframe\">\n",
       "  <thead>\n",
       "    <tr style=\"text-align: right;\">\n",
       "      <th></th>\n",
       "      <th>TIME</th>\n",
       "      <th>Leaked_Conveyor</th>\n",
       "      <th>AllLeaked</th>\n",
       "      <th>AllOutFlowed</th>\n",
       "      <th>InFlow</th>\n",
       "      <th>OutFlow</th>\n",
       "      <th>LeakingFlow</th>\n",
       "    </tr>\n",
       "  </thead>\n",
       "  <tbody>\n",
       "    <tr>\n",
       "      <th>0</th>\n",
       "      <td>0.0</td>\n",
       "      <td>10.000000</td>\n",
       "      <td>0.000000</td>\n",
       "      <td>0.000000</td>\n",
       "      <td>0</td>\n",
       "      <td>2.363166</td>\n",
       "      <td>0.264927</td>\n",
       "    </tr>\n",
       "    <tr>\n",
       "      <th>1</th>\n",
       "      <td>0.5</td>\n",
       "      <td>8.685954</td>\n",
       "      <td>0.132463</td>\n",
       "      <td>1.181583</td>\n",
       "      <td>0</td>\n",
       "      <td>2.359569</td>\n",
       "      <td>0.231643</td>\n",
       "    </tr>\n",
       "    <tr>\n",
       "      <th>2</th>\n",
       "      <td>1.0</td>\n",
       "      <td>7.390348</td>\n",
       "      <td>0.248285</td>\n",
       "      <td>2.361367</td>\n",
       "      <td>0</td>\n",
       "      <td>2.356069</td>\n",
       "      <td>0.198409</td>\n",
       "    </tr>\n",
       "    <tr>\n",
       "      <th>3</th>\n",
       "      <td>1.5</td>\n",
       "      <td>6.113109</td>\n",
       "      <td>0.347489</td>\n",
       "      <td>3.539402</td>\n",
       "      <td>0</td>\n",
       "      <td>2.352663</td>\n",
       "      <td>0.165225</td>\n",
       "    </tr>\n",
       "    <tr>\n",
       "      <th>4</th>\n",
       "      <td>2.0</td>\n",
       "      <td>4.854165</td>\n",
       "      <td>0.430102</td>\n",
       "      <td>4.715733</td>\n",
       "      <td>0</td>\n",
       "      <td>2.349346</td>\n",
       "      <td>0.132089</td>\n",
       "    </tr>\n",
       "    <tr>\n",
       "      <th>5</th>\n",
       "      <td>2.5</td>\n",
       "      <td>3.613447</td>\n",
       "      <td>0.496147</td>\n",
       "      <td>5.890406</td>\n",
       "      <td>0</td>\n",
       "      <td>2.346115</td>\n",
       "      <td>0.099000</td>\n",
       "    </tr>\n",
       "    <tr>\n",
       "      <th>6</th>\n",
       "      <td>3.0</td>\n",
       "      <td>2.390890</td>\n",
       "      <td>0.545646</td>\n",
       "      <td>7.063464</td>\n",
       "      <td>0</td>\n",
       "      <td>2.342968</td>\n",
       "      <td>0.065956</td>\n",
       "    </tr>\n",
       "    <tr>\n",
       "      <th>7</th>\n",
       "      <td>3.5</td>\n",
       "      <td>1.186428</td>\n",
       "      <td>0.578624</td>\n",
       "      <td>8.234948</td>\n",
       "      <td>0</td>\n",
       "      <td>2.339900</td>\n",
       "      <td>0.032956</td>\n",
       "    </tr>\n",
       "    <tr>\n",
       "      <th>8</th>\n",
       "      <td>4.0</td>\n",
       "      <td>0.000000</td>\n",
       "      <td>0.595102</td>\n",
       "      <td>9.404898</td>\n",
       "      <td>0</td>\n",
       "      <td>0.000000</td>\n",
       "      <td>0.000000</td>\n",
       "    </tr>\n",
       "    <tr>\n",
       "      <th>9</th>\n",
       "      <td>4.5</td>\n",
       "      <td>0.000000</td>\n",
       "      <td>0.595102</td>\n",
       "      <td>9.404898</td>\n",
       "      <td>0</td>\n",
       "      <td>0.000000</td>\n",
       "      <td>0.000000</td>\n",
       "    </tr>\n",
       "    <tr>\n",
       "      <th>10</th>\n",
       "      <td>5.0</td>\n",
       "      <td>0.000000</td>\n",
       "      <td>0.595102</td>\n",
       "      <td>9.404898</td>\n",
       "      <td>0</td>\n",
       "      <td>0.000000</td>\n",
       "      <td>0.000000</td>\n",
       "    </tr>\n",
       "    <tr>\n",
       "      <th>11</th>\n",
       "      <td>5.5</td>\n",
       "      <td>0.000000</td>\n",
       "      <td>0.595102</td>\n",
       "      <td>9.404898</td>\n",
       "      <td>0</td>\n",
       "      <td>0.000000</td>\n",
       "      <td>0.000000</td>\n",
       "    </tr>\n",
       "    <tr>\n",
       "      <th>12</th>\n",
       "      <td>6.0</td>\n",
       "      <td>0.000000</td>\n",
       "      <td>0.595102</td>\n",
       "      <td>9.404898</td>\n",
       "      <td>0</td>\n",
       "      <td>0.000000</td>\n",
       "      <td>0.000000</td>\n",
       "    </tr>\n",
       "    <tr>\n",
       "      <th>13</th>\n",
       "      <td>6.5</td>\n",
       "      <td>0.000000</td>\n",
       "      <td>0.595102</td>\n",
       "      <td>9.404898</td>\n",
       "      <td>0</td>\n",
       "      <td>0.000000</td>\n",
       "      <td>0.000000</td>\n",
       "    </tr>\n",
       "    <tr>\n",
       "      <th>14</th>\n",
       "      <td>7.0</td>\n",
       "      <td>0.000000</td>\n",
       "      <td>0.595102</td>\n",
       "      <td>9.404898</td>\n",
       "      <td>0</td>\n",
       "      <td>0.000000</td>\n",
       "      <td>0.000000</td>\n",
       "    </tr>\n",
       "    <tr>\n",
       "      <th>15</th>\n",
       "      <td>7.5</td>\n",
       "      <td>0.000000</td>\n",
       "      <td>0.595102</td>\n",
       "      <td>9.404898</td>\n",
       "      <td>0</td>\n",
       "      <td>0.000000</td>\n",
       "      <td>0.000000</td>\n",
       "    </tr>\n",
       "    <tr>\n",
       "      <th>16</th>\n",
       "      <td>8.0</td>\n",
       "      <td>0.000000</td>\n",
       "      <td>0.595102</td>\n",
       "      <td>9.404898</td>\n",
       "      <td>0</td>\n",
       "      <td>0.000000</td>\n",
       "      <td>0.000000</td>\n",
       "    </tr>\n",
       "  </tbody>\n",
       "</table>\n",
       "</div>"
      ],
      "text/plain": [
       "    TIME  Leaked_Conveyor  AllLeaked  AllOutFlowed  InFlow   OutFlow  \\\n",
       "0    0.0        10.000000   0.000000      0.000000       0  2.363166   \n",
       "1    0.5         8.685954   0.132463      1.181583       0  2.359569   \n",
       "2    1.0         7.390348   0.248285      2.361367       0  2.356069   \n",
       "3    1.5         6.113109   0.347489      3.539402       0  2.352663   \n",
       "4    2.0         4.854165   0.430102      4.715733       0  2.349346   \n",
       "5    2.5         3.613447   0.496147      5.890406       0  2.346115   \n",
       "6    3.0         2.390890   0.545646      7.063464       0  2.342968   \n",
       "7    3.5         1.186428   0.578624      8.234948       0  2.339900   \n",
       "8    4.0         0.000000   0.595102      9.404898       0  0.000000   \n",
       "9    4.5         0.000000   0.595102      9.404898       0  0.000000   \n",
       "10   5.0         0.000000   0.595102      9.404898       0  0.000000   \n",
       "11   5.5         0.000000   0.595102      9.404898       0  0.000000   \n",
       "12   6.0         0.000000   0.595102      9.404898       0  0.000000   \n",
       "13   6.5         0.000000   0.595102      9.404898       0  0.000000   \n",
       "14   7.0         0.000000   0.595102      9.404898       0  0.000000   \n",
       "15   7.5         0.000000   0.595102      9.404898       0  0.000000   \n",
       "16   8.0         0.000000   0.595102      9.404898       0  0.000000   \n",
       "\n",
       "    LeakingFlow  \n",
       "0      0.264927  \n",
       "1      0.231643  \n",
       "2      0.198409  \n",
       "3      0.165225  \n",
       "4      0.132089  \n",
       "5      0.099000  \n",
       "6      0.065956  \n",
       "7      0.032956  \n",
       "8      0.000000  \n",
       "9      0.000000  \n",
       "10     0.000000  \n",
       "11     0.000000  \n",
       "12     0.000000  \n",
       "13     0.000000  \n",
       "14     0.000000  \n",
       "15     0.000000  \n",
       "16     0.000000  "
      ]
     },
     "execution_count": 7,
     "metadata": {},
     "output_type": "execute_result"
    }
   ],
   "source": [
    "df_outcome"
   ]
  },
  {
   "cell_type": "markdown",
   "metadata": {},
   "source": [
    "### Benchmark by comparing simulation outcomes from ADSM and Stella"
   ]
  },
  {
   "cell_type": "code",
   "execution_count": 8,
   "metadata": {},
   "outputs": [],
   "source": [
    "# df_outcome.subtract(df_benchmark, axis =1)"
   ]
  },
  {
   "cell_type": "code",
   "execution_count": 9,
   "metadata": {},
   "outputs": [],
   "source": [
    "# df_benchmark = pd.read_excel('comparison_outcome.xlsx')\n",
    "# df_benchmark.drop(['Weeks'], axis=1, inplace=True)\n",
    "# df_benchmark[sorted(df_benchmark.columns)]"
   ]
  }
 ],
 "metadata": {
  "kernelspec": {
   "display_name": "Python 3.8.13 ('asdm38')",
   "language": "python",
   "name": "python3"
  },
  "language_info": {
   "codemirror_mode": {
    "name": "ipython",
    "version": 3
   },
   "file_extension": ".py",
   "mimetype": "text/x-python",
   "name": "python",
   "nbconvert_exporter": "python",
   "pygments_lexer": "ipython3",
   "version": "3.8.13"
  },
  "orig_nbformat": 4,
  "vscode": {
   "interpreter": {
    "hash": "53c92d557bc5c688cfbc8ffaac7a6ebbbee1de4ba658e284fc67a5bc85857945"
   }
  }
 },
 "nbformat": 4,
 "nbformat_minor": 2
}
